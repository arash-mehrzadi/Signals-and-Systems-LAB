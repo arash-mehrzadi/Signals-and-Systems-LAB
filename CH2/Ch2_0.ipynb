{
  "nbformat": 4,
  "nbformat_minor": 0,
  "metadata": {
    "colab": {
      "name": "Ch2-0.ipynb",
      "provenance": []
    },
    "kernelspec": {
      "name": "python3",
      "display_name": "Python 3"
    },
    "language_info": {
      "name": "python"
    }
  },
  "cells": [
    {
      "cell_type": "markdown",
      "metadata": {
        "id": "nqTsEgSeUeWe"
      },
      "source": [
        "# Dirac delta function  \n",
        "\n",
        "![image.png](data:image/png;base64,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)\n",
        "\n",
        "In mathematics, the Dirac delta function (δ function) is a generalized function or distribution introduced by physicist Paul Dirac. It is called a function, although it is not a function. It is used to model the density of an idealized point mass or point charge as a function equal to zero everywhere except for zero and whose integral over the entire real line is equal to one. As there is no function that has these properties, the computations made by theoretical physicists appeared to mathematicians as nonsense until the introduction of distributions by Laurent Schwartz to formalize and validate the computations. As a distribution, the Dirac delta function is a linear function that maps every function to its value at zero. The Kronecker delta function, which is usually defined on a discrete domain and takes values 0 and 1, is a discrete analog of the Dirac delta function.\n",
        "\n",
        "In engineering and signal processing, the delta function, also known as the unit impulse symbol, may be regarded through its Laplace transform, as coming from the boundary values of a complex analytic function of a complex variable. The formal rules obeyed by this function are part of the operational calculus, a standard tool kit of physics and engineering. In many applications, the Dirac delta is regarded as a kind of limit (a weak limit) of a sequence of functions having a tall spike at the origin (in theory of distributions, this is a true limit). The approximating functions of the sequence are thus \"approximate\" or \"nascent\" delta functions."
      ]
    },
    {
      "cell_type": "markdown",
      "metadata": {
        "id": "mjmwXaL_VgIs"
      },
      "source": [
        "**An impulse at the 0th element δ[n]**"
      ]
    },
    {
      "cell_type": "code",
      "metadata": {
        "id": "H3xdS_DWWbil"
      },
      "source": [
        "from scipy import signal\n",
        "import numpy as np\n",
        "import matplotlib.pyplot as plt"
      ],
      "execution_count": 10,
      "outputs": []
    },
    {
      "cell_type": "code",
      "metadata": {
        "colab": {
          "base_uri": "https://localhost:8080/"
        },
        "id": "MOAmwZfzUOeu",
        "outputId": "7ec4bac6-f095-4df2-a7e9-d5cbddfd3543"
      },
      "source": [
        "signal.unit_impulse(8)"
      ],
      "execution_count": 1,
      "outputs": [
        {
          "output_type": "execute_result",
          "data": {
            "text/plain": [
              "array([1., 0., 0., 0., 0., 0., 0., 0.])"
            ]
          },
          "metadata": {
            "tags": []
          },
          "execution_count": 1
        }
      ]
    },
    {
      "cell_type": "markdown",
      "metadata": {
        "id": "vc-axJo2WCW0"
      },
      "source": [
        "**Impulse offset by 2 samples (δ[n-2])**"
      ]
    },
    {
      "cell_type": "code",
      "metadata": {
        "colab": {
          "base_uri": "https://localhost:8080/"
        },
        "id": "8PpZZDSuV4JN",
        "outputId": "8fc211d9-3a9c-4350-bf70-9054d2fd9e91"
      },
      "source": [
        "signal.unit_impulse(7, 2)"
      ],
      "execution_count": 3,
      "outputs": [
        {
          "output_type": "execute_result",
          "data": {
            "text/plain": [
              "array([0., 0., 1., 0., 0., 0., 0.])"
            ]
          },
          "metadata": {
            "tags": []
          },
          "execution_count": 3
        }
      ]
    },
    {
      "cell_type": "markdown",
      "metadata": {
        "id": "aCCCjVlOV-Js"
      },
      "source": [
        "**2-dimensional impulse, centered:**"
      ]
    },
    {
      "cell_type": "code",
      "metadata": {
        "colab": {
          "base_uri": "https://localhost:8080/"
        },
        "id": "R8aHgVKFV67M",
        "outputId": "88ef3501-ed62-4db0-ab78-6c69a5e8df8c"
      },
      "source": [
        "signal.unit_impulse((3, 3), 'mid')"
      ],
      "execution_count": 4,
      "outputs": [
        {
          "output_type": "execute_result",
          "data": {
            "text/plain": [
              "array([[0., 0., 0.],\n",
              "       [0., 1., 0.],\n",
              "       [0., 0., 0.]])"
            ]
          },
          "metadata": {
            "tags": []
          },
          "execution_count": 4
        }
      ]
    },
    {
      "cell_type": "markdown",
      "metadata": {
        "id": "7mFLqw9kWPu0"
      },
      "source": [
        "**Impulse at (2, 2), using broadcasting:**"
      ]
    },
    {
      "cell_type": "code",
      "metadata": {
        "colab": {
          "base_uri": "https://localhost:8080/"
        },
        "id": "jTDdE2myWQ-Q",
        "outputId": "caffdc27-4b55-47fc-81df-c818586215fc"
      },
      "source": [
        "signal.unit_impulse((4, 4), 2)"
      ],
      "execution_count": 5,
      "outputs": [
        {
          "output_type": "execute_result",
          "data": {
            "text/plain": [
              "array([[0., 0., 0., 0.],\n",
              "       [0., 0., 0., 0.],\n",
              "       [0., 0., 1., 0.],\n",
              "       [0., 0., 0., 0.]])"
            ]
          },
          "metadata": {
            "tags": []
          },
          "execution_count": 5
        }
      ]
    },
    {
      "cell_type": "markdown",
      "metadata": {
        "id": "h5XGSTeJWTGc"
      },
      "source": [
        "**Plot the impulse response of a 4th-order Butterworth lowpass filter:**"
      ]
    },
    {
      "cell_type": "code",
      "metadata": {
        "colab": {
          "base_uri": "https://localhost:8080/",
          "height": 279
        },
        "id": "rQU1zr3ZWWR8",
        "outputId": "ac20b228-1032-49f0-8c44-c6bce3f34987"
      },
      "source": [
        "imp = signal.unit_impulse(100, 'mid')\n",
        "b, a = signal.butter(4, 0.2)\n",
        "response = signal.lfilter(b, a, imp)\n",
        "plt.plot(np.arange(-50, 50), imp)\n",
        "plt.plot(np.arange(-50, 50), response)\n",
        "plt.margins(0.1, 0.1)\n",
        "plt.xlabel('Time [samples]')\n",
        "plt.ylabel('Amplitude')\n",
        "plt.grid(True)\n",
        "plt.show()"
      ],
      "execution_count": 11,
      "outputs": [
        {
          "output_type": "display_data",
          "data": {
            "image/png": "[encoded data removed]",
            "text/plain": [
              "<Figure size 432x288 with 1 Axes>"
            ]
          },
          "metadata": {
            "tags": [],
            "needs_background": "light"
          }
        }
      ]
    },
    {
      "cell_type": "markdown",
      "metadata": {
        "id": "ekZvg69IW1j1"
      },
      "source": [
        "#Ramp Function\n",
        "\n",
        "The ramp function is a unary real function, whose graph is shaped like a ramp. It can be expressed by numerous definitions, for example \"0 for negative inputs, output equals input for non-negative inputs\". The term \"ramp\" can also be used for other functions obtained by scaling and shifting, and the function in this article is the unit ramp function (slope 1, starting at 0).\n",
        "\n",
        "In machine learning, it is commonly known as a ReLU activation function[1][2] or a rectifier in analogy to half-wave rectification in electrical engineering. In statistics (when used as a likelihood function) it is known as a tobit model.\n",
        "\n",
        "This function has numerous applications in mathematics and engineering, and goes by various names, depending on the context."
      ]
    },
    {
      "cell_type": "code",
      "metadata": {
        "colab": {
          "base_uri": "https://localhost:8080/",
          "height": 282
        },
        "id": "dbOP6nDTYuDs",
        "outputId": "e4f08d1d-dc7f-453f-8024-37b316a5c5a2"
      },
      "source": [
        "n = range(-2, 6, 1)\n",
        "y = []\n",
        "for i in range(len(n)):\n",
        "    temp = (n[i] if n[i]>=0 else 0)\n",
        "    y.append(temp)\n",
        "\n",
        "\n",
        "\n",
        "plt.axis([-2.1, 5.1, -0.1, 5.2])\n",
        "plt.grid(True)\n",
        "plt.plot(n,y)"
      ],
      "execution_count": 21,
      "outputs": [
        {
          "output_type": "execute_result",
          "data": {
            "text/plain": [
              "[<matplotlib.lines.Line2D at 0x7f94c149f5d0>]"
            ]
          },
          "metadata": {
            "tags": []
          },
          "execution_count": 21
        },
        {
          "output_type": "display_data",
          "data": {
            "image/png": "[encoded data removed]",
            "text/plain": [
              "<Figure size 432x288 with 1 Axes>"
            ]
          },
          "metadata": {
            "tags": [],
            "needs_background": "light"
          }
        }
      ]
    },
    {
      "cell_type": "code",
      "metadata": {
        "colab": {
          "base_uri": "https://localhost:8080/",
          "height": 282
        },
        "id": "xbdJMceGXHDc",
        "outputId": "fc58b345-58d4-4be3-b836-13bc3c01bc3f"
      },
      "source": [
        "t = np.linspace(0, 1, 500)\n",
        "plt.plot(t, 2.5*(signal.sawtooth(2 * np.pi * 5 * t) + 1))"
      ],
      "execution_count": 16,
      "outputs": [
        {
          "output_type": "execute_result",
          "data": {
            "text/plain": [
              "[<matplotlib.lines.Line2D at 0x7f94c1731290>]"
            ]
          },
          "metadata": {
            "tags": []
          },
          "execution_count": 16
        },
        {
          "output_type": "display_data",
          "data": {
            "image/png": "[encoded data removed]",
            "text/plain": [
              "<Figure size 432x288 with 1 Axes>"
            ]
          },
          "metadata": {
            "tags": [],
            "needs_background": "light"
          }
        }
      ]
    }
  ]
}