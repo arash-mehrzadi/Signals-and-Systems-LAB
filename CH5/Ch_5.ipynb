{
  "nbformat": 4,
  "nbformat_minor": 0,
  "metadata": {
    "colab": {
      "name": "Ch_5.ipynb",
      "provenance": [],
      "collapsed_sections": []
    },
    "kernelspec": {
      "name": "python3",
      "display_name": "Python 3"
    },
    "language_info": {
      "name": "python"
    }
  },
  "cells": [
    {
      "cell_type": "markdown",
      "metadata": {
        "id": "gEhXs1bXkNI5"
      },
      "source": [
        "## Fourier transforms"
      ]
    },
    {
      "cell_type": "markdown",
      "metadata": {
        "id": "6xTOMTLCjgEM"
      },
      "source": [
        "### 1-D discrete Fourier transforms\n",
        "\n",
        "\n",
        "The FFT y[k] of length N of the length-N sequence x[n] is defined as\n",
        "\n",
        "\n",
        "\n",
        "![image.png](data:image/png;base64,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)\n",
        "\n",
        "and the inverse transform is defined as follows\n",
        "\n",
        "![image.png](data:image/png;base64,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)\n",
        "\n",
        "These transforms can be calculated by means of fft and ifft, respectively, as shown in the following example."
      ]
    },
    {
      "cell_type": "code",
      "metadata": {
        "colab": {
          "base_uri": "https://localhost:8080/"
        },
        "id": "Tc7AmkOJi_u8",
        "outputId": "de0acf6d-e7f2-41ab-d665-1db0fc6e5085"
      },
      "source": [
        "from scipy.fft import fft, ifft\n",
        "import numpy as np\n",
        "\n",
        "x = np.array([1.0, 2.0, 1.0, -1.0, 1.5])\n",
        "\n",
        "y = fft(x)\n",
        "\n",
        "y"
      ],
      "execution_count": 2,
      "outputs": [
        {
          "output_type": "execute_result",
          "data": {
            "text/plain": [
              "array([ 4.5       -0.j        ,  2.08155948-1.65109876j,\n",
              "       -1.83155948+1.60822041j, -1.83155948-1.60822041j,\n",
              "        2.08155948+1.65109876j])"
            ]
          },
          "metadata": {
            "tags": []
          },
          "execution_count": 2
        }
      ]
    },
    {
      "cell_type": "code",
      "metadata": {
        "colab": {
          "base_uri": "https://localhost:8080/"
        },
        "id": "a8GB_1WykkF1",
        "outputId": "9fa0fb4b-0d35-4dc5-8873-7e0b66c1cac8"
      },
      "source": [
        "yinv = ifft(y)\n",
        "\n",
        "yinv"
      ],
      "execution_count": 3,
      "outputs": [
        {
          "output_type": "execute_result",
          "data": {
            "text/plain": [
              "array([ 1. +0.j,  2. +0.j,  1. +0.j, -1. +0.j,  1.5+0.j])"
            ]
          },
          "metadata": {
            "tags": []
          },
          "execution_count": 3
        }
      ]
    },
    {
      "cell_type": "markdown",
      "metadata": {
        "id": "2cYEwXyjklw2"
      },
      "source": [
        "From the definition of the FFT it can be seen that\n",
        "\n",
        "\n",
        "![image.png](data:image/png;base64,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)\n",
        "\n",
        "In the example"
      ]
    },
    {
      "cell_type": "code",
      "metadata": {
        "colab": {
          "base_uri": "https://localhost:8080/"
        },
        "id": "45Aug5-SkzK-",
        "outputId": "fb29c3b1-5228-47fd-c31c-10613c272d9c"
      },
      "source": [
        "np.sum(x)"
      ],
      "execution_count": 4,
      "outputs": [
        {
          "output_type": "execute_result",
          "data": {
            "text/plain": [
              "4.5"
            ]
          },
          "metadata": {
            "tags": []
          },
          "execution_count": 4
        }
      ]
    },
    {
      "cell_type": "markdown",
      "metadata": {
        "id": "w3a8dHyXk1AH"
      },
      "source": [
        "which corresponds y[0] to . For N even, the elements y[1]...y[N/2-1] contain the positive-frequency terms, and the elements y[N/2]...y[N-1]contain the negative-frequency terms, in order of decreasingly negative frequency. For N odd, the elements y[1]...y[(N-1)/2]  contain the positive-frequency terms, and the elements [(N+1)/2]...y[N-1] contain the negative-frequency terms, in order of decreasingly negative frequency.\n",
        "\n",
        "In case the sequence x is real-valued, the values of y[n]\n",
        "for positive frequencies is the conjugate of the values y[n] for negative frequencies (because the spectrum is symmetric). Typically, only the FFT corresponding to positive frequencies is plotted.\n",
        "\n",
        "The example plots the FFT of the sum of two sines."
      ]
    },
    {
      "cell_type": "code",
      "metadata": {
        "colab": {
          "base_uri": "https://localhost:8080/",
          "height": 265
        },
        "id": "zwSJeFj1lqBf",
        "outputId": "2feead38-ab75-4415-a69e-800c65bf6c49"
      },
      "source": [
        "from scipy.fft import fft, fftfreq\n",
        "\n",
        "# Number of sample points\n",
        "\n",
        "N = 600\n",
        "\n",
        "# sample spacing\n",
        "\n",
        "T = 1.0 / 800.0\n",
        "\n",
        "x = np.linspace(0.0, N*T, N, endpoint=False)\n",
        "\n",
        "y = np.sin(50.0 * 2.0*np.pi*x) + 0.5*np.sin(80.0 * 2.0*np.pi*x)\n",
        "\n",
        "yf = fft(y)\n",
        "\n",
        "xf = fftfreq(N, T)[:N//2]\n",
        "\n",
        "import matplotlib.pyplot as plt\n",
        "\n",
        "plt.plot(xf, 2.0/N * np.abs(yf[0:N//2]))\n",
        "\n",
        "plt.grid()\n",
        "\n",
        "plt.show()"
      ],
      "execution_count": 5,
      "outputs": [
        {
          "output_type": "display_data",
          "data": {
            "image/png": "[encoded data removed]",
            "text/plain": [
              "<Figure size 432x288 with 1 Axes>"
            ]
          },
          "metadata": {
            "tags": [],
            "needs_background": "light"
          }
        }
      ]
    },
    {
      "cell_type": "markdown",
      "metadata": {
        "id": "rnrbBIG9lvdY"
      },
      "source": [
        "he FFT input signal is inherently truncated. This truncation can be modeled as multiplication of an infinite signal with a rectangular window function. In the spectral domain this multiplication becomes convolution of the signal spectrum with the window function spectrum, being of form sin(x)/x. This convolution is the cause of an effect called spectral leakage (see [WPW]). Windowing the signal with a dedicated window function helps mitigate spectral leakage. The example below uses a Blackman window from scipy.signal and shows the effect of windowing (the zero component of the FFT has been truncated for illustrative purposes)."
      ]
    },
    {
      "cell_type": "code",
      "metadata": {
        "colab": {
          "base_uri": "https://localhost:8080/",
          "height": 265
        },
        "id": "0Gr4ikVYltCW",
        "outputId": "a3c044e1-37a5-4926-cd62-e5acf3285625"
      },
      "source": [
        "from scipy.fft import fft, fftfreq\n",
        "\n",
        "# Number of sample points\n",
        "\n",
        "N = 600\n",
        "\n",
        "# sample spacing\n",
        "\n",
        "T = 1.0 / 800.0\n",
        "\n",
        "x = np.linspace(0.0, N*T, N, endpoint=False)\n",
        "\n",
        "y = np.sin(50.0 * 2.0*np.pi*x) + 0.5*np.sin(80.0 * 2.0*np.pi*x)\n",
        "\n",
        "yf = fft(y)\n",
        "\n",
        "from scipy.signal import blackman\n",
        "\n",
        "w = blackman(N)\n",
        "\n",
        "ywf = fft(y*w)\n",
        "\n",
        "xf = fftfreq(N, T)[:N//2]\n",
        "\n",
        "import matplotlib.pyplot as plt\n",
        "\n",
        "plt.semilogy(xf[1:N//2], 2.0/N * np.abs(yf[1:N//2]), '-b')\n",
        "\n",
        "plt.semilogy(xf[1:N//2], 2.0/N * np.abs(ywf[1:N//2]), '-r')\n",
        "\n",
        "plt.legend(['FFT', 'FFT w. window'])\n",
        "\n",
        "plt.grid()\n",
        "\n",
        "plt.show()"
      ],
      "execution_count": 6,
      "outputs": [
        {
          "output_type": "display_data",
          "data": {
            "image/png": "[encoded data removed]",
            "text/plain": [
              "<Figure size 432x288 with 1 Axes>"
            ]
          },
          "metadata": {
            "tags": [],
            "needs_background": "light"
          }
        }
      ]
    },
    {
      "cell_type": "markdown",
      "metadata": {
        "id": "xeJ-Wpztl_xH"
      },
      "source": [
        "In case the sequence x is complex-valued, the spectrum is no longer symmetric. To simplify working with the FFT functions, scipy provides the following two helper functions.\n",
        "\n",
        "The function fftfreq returns the FFT sample frequency points."
      ]
    },
    {
      "cell_type": "code",
      "metadata": {
        "colab": {
          "base_uri": "https://localhost:8080/"
        },
        "id": "wIAZPHiNl8uy",
        "outputId": "fb74721c-4704-4e93-c311-21227a342c2c"
      },
      "source": [
        "from scipy.fft import fftfreq\n",
        "\n",
        "freq = fftfreq(8, 0.125)\n",
        "\n",
        "freq"
      ],
      "execution_count": 8,
      "outputs": [
        {
          "output_type": "execute_result",
          "data": {
            "text/plain": [
              "array([ 0.,  1.,  2.,  3., -4., -3., -2., -1.])"
            ]
          },
          "metadata": {
            "tags": []
          },
          "execution_count": 8
        }
      ]
    },
    {
      "cell_type": "markdown",
      "metadata": {
        "id": "deAiVWS3mFFv"
      },
      "source": [
        "In a similar spirit, the function fftshift allows swapping the lower and upper halves of a vector, so that it becomes suitable for display."
      ]
    },
    {
      "cell_type": "code",
      "metadata": {
        "colab": {
          "base_uri": "https://localhost:8080/"
        },
        "id": "XF55UiUjmEZb",
        "outputId": "c3b05665-764c-4319-86fa-a78daea70b60"
      },
      "source": [
        "from scipy.fft import fftshift\n",
        "\n",
        "x = np.arange(8)\n",
        "\n",
        "fftshift(x)"
      ],
      "execution_count": 9,
      "outputs": [
        {
          "output_type": "execute_result",
          "data": {
            "text/plain": [
              "array([4, 5, 6, 7, 0, 1, 2, 3])"
            ]
          },
          "metadata": {
            "tags": []
          },
          "execution_count": 9
        }
      ]
    },
    {
      "cell_type": "markdown",
      "metadata": {
        "id": "Ue_KYE_GmKEj"
      },
      "source": [
        "The example below plots the FFT of two complex exponentials; note the asymmetric spectrum."
      ]
    },
    {
      "cell_type": "code",
      "metadata": {
        "colab": {
          "base_uri": "https://localhost:8080/",
          "height": 265
        },
        "id": "MjafCG5imKs3",
        "outputId": "3fb4ccf0-6934-44c0-b554-fd4a081ea805"
      },
      "source": [
        "from scipy.fft import fft, fftfreq, fftshift\n",
        "\n",
        "# number of signal points\n",
        "\n",
        "N = 400\n",
        "\n",
        "# sample spacing\n",
        "\n",
        "T = 1.0 / 800.0\n",
        "\n",
        "x = np.linspace(0.0, N*T, N, endpoint=False)\n",
        "\n",
        "y = np.exp(50.0 * 1.j * 2.0*np.pi*x) + 0.5*np.exp(-80.0 * 1.j * 2.0*np.pi*x)\n",
        "\n",
        "yf = fft(y)\n",
        "\n",
        "xf = fftfreq(N, T)\n",
        "\n",
        "xf = fftshift(xf)\n",
        "\n",
        "yplot = fftshift(yf)\n",
        "\n",
        "import matplotlib.pyplot as plt\n",
        "\n",
        "plt.plot(xf, 1.0/N * np.abs(yplot))\n",
        "\n",
        "plt.grid()\n",
        "\n",
        "plt.show()"
      ],
      "execution_count": 10,
      "outputs": [
        {
          "output_type": "display_data",
          "data": {
            "image/png": "[encoded data removed]",
            "text/plain": [
              "<Figure size 432x288 with 1 Axes>"
            ]
          },
          "metadata": {
            "tags": [],
            "needs_background": "light"
          }
        }
      ]
    },
    {
      "cell_type": "markdown",
      "metadata": {
        "id": "VHOWArMhmObQ"
      },
      "source": [
        "The function rfft calculates the FFT of a real sequence and outputs the complex FFT coefficients y[n] for only half of the frequency range. The remaining negative frequency components are implied by the Hermitian symmetry of the FFT for a real input (y[n] = conj(y[-n])). In case of N being even:![image.png](data:image/png;base64,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); in case of N being odd ![image.png](data:image/png;base64,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). The terms shown explicitly as ![image.png](data:image/png;base64,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) are restricted to be purely real since, by the hermitian property, they are their own complex conjugate."
      ]
    },
    {
      "cell_type": "code",
      "metadata": {
        "colab": {
          "base_uri": "https://localhost:8080/"
        },
        "id": "7aQQoSYTminv",
        "outputId": "63d1fbdb-0853-443a-e9cd-bb3d2fcd230f"
      },
      "source": [
        "from scipy.fft import fft, rfft, irfft\n",
        "\n",
        "x = np.array([1.0, 2.0, 1.0, -1.0, 1.5, 1.0])\n",
        "\n",
        "fft(x)"
      ],
      "execution_count": 11,
      "outputs": [
        {
          "output_type": "execute_result",
          "data": {
            "text/plain": [
              "array([ 5.5 -0.j        ,  2.25-0.4330127j , -2.75-1.29903811j,\n",
              "        1.5 -0.j        , -2.75+1.29903811j,  2.25+0.4330127j ])"
            ]
          },
          "metadata": {
            "tags": []
          },
          "execution_count": 11
        }
      ]
    },
    {
      "cell_type": "code",
      "metadata": {
        "colab": {
          "base_uri": "https://localhost:8080/"
        },
        "id": "NnxFagPimoOV",
        "outputId": "a2485501-02ae-4914-9e28-0d5de55a414e"
      },
      "source": [
        "yr = rfft(x)\n",
        "\n",
        "yr"
      ],
      "execution_count": 12,
      "outputs": [
        {
          "output_type": "execute_result",
          "data": {
            "text/plain": [
              "array([ 5.5 +0.j        ,  2.25-0.4330127j , -2.75-1.29903811j,\n",
              "        1.5 +0.j        ])"
            ]
          },
          "metadata": {
            "tags": []
          },
          "execution_count": 12
        }
      ]
    },
    {
      "cell_type": "code",
      "metadata": {
        "colab": {
          "base_uri": "https://localhost:8080/"
        },
        "id": "iSqnutKNmqcG",
        "outputId": "fd7ac652-5666-4cfa-fc5e-453eb9c4f542"
      },
      "source": [
        "irfft(yr)"
      ],
      "execution_count": 13,
      "outputs": [
        {
          "output_type": "execute_result",
          "data": {
            "text/plain": [
              "array([ 1. ,  2. ,  1. , -1. ,  1.5,  1. ])"
            ]
          },
          "metadata": {
            "tags": []
          },
          "execution_count": 13
        }
      ]
    },
    {
      "cell_type": "code",
      "metadata": {
        "colab": {
          "base_uri": "https://localhost:8080/"
        },
        "id": "8DSsJg09ms6V",
        "outputId": "e6e0505d-cfbb-46a2-891b-3a12c4592954"
      },
      "source": [
        "x = np.array([1.0, 2.0, 1.0, -1.0, 1.5])\n",
        "\n",
        "fft(x)"
      ],
      "execution_count": 14,
      "outputs": [
        {
          "output_type": "execute_result",
          "data": {
            "text/plain": [
              "array([ 4.5       -0.j        ,  2.08155948-1.65109876j,\n",
              "       -1.83155948+1.60822041j, -1.83155948-1.60822041j,\n",
              "        2.08155948+1.65109876j])"
            ]
          },
          "metadata": {
            "tags": []
          },
          "execution_count": 14
        }
      ]
    },
    {
      "cell_type": "code",
      "metadata": {
        "colab": {
          "base_uri": "https://localhost:8080/"
        },
        "id": "ppWg2MCxmu_R",
        "outputId": "e44aaf69-011c-4b7d-9dbf-fcb570a38b2b"
      },
      "source": [
        "yr = rfft(x)\n",
        "\n",
        "yr"
      ],
      "execution_count": 15,
      "outputs": [
        {
          "output_type": "execute_result",
          "data": {
            "text/plain": [
              "array([ 4.5       +0.j        ,  2.08155948-1.65109876j,\n",
              "       -1.83155948+1.60822041j])"
            ]
          },
          "metadata": {
            "tags": []
          },
          "execution_count": 15
        }
      ]
    },
    {
      "cell_type": "markdown",
      "metadata": {
        "id": "Z4h1ujG8mxvS"
      },
      "source": [
        "Notice that the rfft of odd and even length signals are of the same shape. By default, irfft assumes the output signal should be of even length. And so, for odd signals, it will give the wrong result:"
      ]
    },
    {
      "cell_type": "code",
      "metadata": {
        "colab": {
          "base_uri": "https://localhost:8080/"
        },
        "id": "NMUbxyFFmzVu",
        "outputId": "51727e9a-9a54-4150-b983-8b62c81ebf88"
      },
      "source": [
        "irfft(yr)"
      ],
      "execution_count": 16,
      "outputs": [
        {
          "output_type": "execute_result",
          "data": {
            "text/plain": [
              "array([ 1.70788987,  2.40843925, -0.37366961,  0.75734049])"
            ]
          },
          "metadata": {
            "tags": []
          },
          "execution_count": 16
        }
      ]
    },
    {
      "cell_type": "markdown",
      "metadata": {
        "id": "lx_yvYZhm0zZ"
      },
      "source": [
        "To recover the original odd-length signal, we must pass the output shape by the n parameter."
      ]
    },
    {
      "cell_type": "code",
      "metadata": {
        "colab": {
          "base_uri": "https://localhost:8080/"
        },
        "id": "HxS1vAE3m1cW",
        "outputId": "b6ae3868-ac13-4e2c-8574-23bae1c86a8d"
      },
      "source": [
        "irfft(yr, n=len(x))"
      ],
      "execution_count": 17,
      "outputs": [
        {
          "output_type": "execute_result",
          "data": {
            "text/plain": [
              "array([ 1. ,  2. ,  1. , -1. ,  1.5])"
            ]
          },
          "metadata": {
            "tags": []
          },
          "execution_count": 17
        }
      ]
    },
    {
      "cell_type": "markdown",
      "metadata": {
        "id": "T61ZfJ_qm_-Y"
      },
      "source": [
        "### 2- and N-D discrete Fourier transforms\n",
        "\n",
        "The functions fft2 and ifft2 provide 2-D FFT and IFFT, respectively. Similarly, fftn and ifftn provide N-D FFT, and IFFT, respectively.\n",
        "\n",
        "For real-input signals, similarly to rfft, we have the functions rfft2 and irfft2 for 2-D real transforms; rfftn and irfftn for N-D real transforms.\n",
        "\n",
        "The example below demonstrates a 2-D IFFT and plots the resulting (2-D) time-domain signals."
      ]
    },
    {
      "cell_type": "code",
      "metadata": {
        "colab": {
          "base_uri": "https://localhost:8080/",
          "height": 267
        },
        "id": "T9MGd0vlnDzk",
        "outputId": "2909935a-4af5-4797-b11f-eda526015614"
      },
      "source": [
        "from scipy.fft import ifftn\n",
        "\n",
        "import matplotlib.pyplot as plt\n",
        "\n",
        "import matplotlib.cm as cm\n",
        "\n",
        "N = 30\n",
        "\n",
        "f, ((ax1, ax2, ax3), (ax4, ax5, ax6)) = plt.subplots(2, 3, sharex='col', sharey='row')\n",
        "\n",
        "xf = np.zeros((N,N))\n",
        "\n",
        "xf[0, 5] = 1\n",
        "\n",
        "xf[0, N-5] = 1\n",
        "\n",
        "Z = ifftn(xf)\n",
        "\n",
        "ax1.imshow(xf, cmap=cm.Reds)\n",
        "\n",
        "ax4.imshow(np.real(Z), cmap=cm.gray)\n",
        "\n",
        "xf = np.zeros((N, N))\n",
        "\n",
        "xf[5, 0] = 1\n",
        "\n",
        "xf[N-5, 0] = 1\n",
        "\n",
        "Z = ifftn(xf)\n",
        "\n",
        "ax2.imshow(xf, cmap=cm.Reds)\n",
        "\n",
        "ax5.imshow(np.real(Z), cmap=cm.gray)\n",
        "\n",
        "xf = np.zeros((N, N))\n",
        "\n",
        "xf[5, 10] = 1\n",
        "\n",
        "xf[N-5, N-10] = 1\n",
        "\n",
        "Z = ifftn(xf)\n",
        "\n",
        "ax3.imshow(xf, cmap=cm.Reds)\n",
        "\n",
        "ax6.imshow(np.real(Z), cmap=cm.gray)\n",
        "\n",
        "plt.show()"
      ],
      "execution_count": 18,
      "outputs": [
        {
          "output_type": "display_data",
          "data": {
            "image/png": "[encoded data removed]",
            "text/plain": [
              "<Figure size 432x288 with 6 Axes>"
            ]
          },
          "metadata": {
            "tags": [],
            "needs_background": "light"
          }
        }
      ]
    }
  ]
}